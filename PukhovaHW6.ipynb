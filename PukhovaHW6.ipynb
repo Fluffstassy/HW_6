{
  "nbformat": 4,
  "nbformat_minor": 0,
  "metadata": {
    "colab": {
      "provenance": [],
      "collapsed_sections": [],
      "authorship_tag": "ABX9TyOgYzBe/wiZ1IbHibbZSmTJ",
      "include_colab_link": true
    },
    "kernelspec": {
      "name": "python3",
      "display_name": "Python 3"
    },
    "language_info": {
      "name": "python"
    }
  },
  "cells": [
    {
      "cell_type": "markdown",
      "metadata": {
        "id": "view-in-github",
        "colab_type": "text"
      },
      "source": [
        "<a href=\"https://colab.research.google.com/github/Fluffstassy/HW_6/blob/main/PukhovaHW6.ipynb\" target=\"_parent\"><img src=\"https://colab.research.google.com/assets/colab-badge.svg\" alt=\"Open In Colab\"/></a>"
      ]
    },
    {
      "cell_type": "markdown",
      "source": [
        "# Домашнее задание к лекции «Исключения и обработка ошибок»"
      ],
      "metadata": {
        "id": "2BGiVMg9GLxS"
      }
    },
    {
      "cell_type": "markdown",
      "source": [
        "# Задание 1\n",
        "Печатные газеты использовали свой формат дат для каждого выпуска. Для каждой газеты из списка напишите формат указанной даты для перевода в объект datetime:\n",
        "\n",
        "The Moscow Times - Wednesday, October 2, 2002\n",
        "\n",
        "The Guardian - Friday, 11.10.13\n",
        "\n",
        "Daily News - Thursday, 18 August 1977"
      ],
      "metadata": {
        "id": "O4r1FvqI4Hap"
      }
    },
    {
      "cell_type": "code",
      "execution_count": null,
      "metadata": {
        "id": "12Tcnp7w0evE"
      },
      "outputs": [],
      "source": [
        "from datetime import datetime\n",
        "\n",
        "datetime.strptime('Wednesday, October 2, 2002', '%A, %B %d, %Y')\n",
        "\n",
        "datetime.strptime('Friday, 11.10.13', '%A, %d.%m.%y')\n",
        "\n",
        "datetime.strptime('Thursday, 18 August 1977', '%A, %d %B %Y')"
      ]
    },
    {
      "cell_type": "markdown",
      "source": [
        "# Задание 2\n",
        "Дан поток дат в формате YYYY-MM-DD, в которых встречаются некорректные значения:\n",
        "stream = [‘2018-04-02’, ‘2018-02-29’, ‘2018-19-02’]\n",
        "\n",
        "Напишите функцию, которая проверяет эти даты на корректность. Т. е. для каждой даты возвращает True (дата корректна) или False (некорректная дата)."
      ],
      "metadata": {
        "id": "s3dDYhlQ3-li"
      }
    },
    {
      "cell_type": "code",
      "source": [
        "from datetime import datetime\n",
        "\n",
        "stream = ['2018-04-02', '2018-02-29', '2018-19-02']\n",
        "def check_date(list_date):\n",
        "    for date in list_date:\n",
        "        try:\n",
        "            valid_date = datetime.strptime(date, '%Y-%m-%d')\n",
        "            print(True)    \n",
        "        except ValueError:\n",
        "            print(False)\n",
        "check_date(stream) "
      ],
      "metadata": {
        "id": "6ZkP6VRT4AMq"
      },
      "execution_count": null,
      "outputs": []
    },
    {
      "cell_type": "markdown",
      "source": [
        "# Задание 3\n",
        "Напишите функцию date_range, которая возвращает список дат за период от start_date до end_date. Даты должны вводиться в формате YYYY-MM-DD. В случае неверного формата или при start_date > end_date должен возвращаться пустой список."
      ],
      "metadata": {
        "id": "MRDXmDL24AWh"
      }
    },
    {
      "cell_type": "code",
      "source": [
        "from datetime import timedelta\n",
        "from datetime import datetime\n",
        "start_date = input('Введите начальную дату в формате YYYY-MM-DD: ')\n",
        "end_date = input('Введите дату окончания в формате YYYY-MM-DD: ')\n",
        "def date_range(start, end):\n",
        "    days = []\n",
        "    try:\n",
        "        start_datetime = datetime.strptime(start,'%Y-%m-%d')\n",
        "        end_datetime = datetime.strptime(end,'%Y-%m-%d')\n",
        "        if start_datetime < end_datetime:\n",
        "            intermediate_datetime = start_datetime\n",
        "            while intermediate_datetime <= end_datetime:\n",
        "                intermediate_datetime = intermediate_datetime + timedelta(days = 1)\n",
        "                print_datetime = datetime.strftime(intermediate_datetime,'%Y-%m-%d')\n",
        "                days.append(print_datetime)\n",
        "    except ValueError:\n",
        "        print(days)\n",
        "    else:\n",
        "        return(days)\n",
        "date_range(start_date, end_date)"
      ],
      "metadata": {
        "id": "lsdHZ-7o4CjC"
      },
      "execution_count": null,
      "outputs": []
    }
  ]
}